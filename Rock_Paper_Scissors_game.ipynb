{
  "nbformat": 4,
  "nbformat_minor": 0,
  "metadata": {
    "colab": {
      "provenance": []
    },
    "kernelspec": {
      "name": "python3",
      "display_name": "Python 3"
    },
    "language_info": {
      "name": "python"
    }
  },
  "cells": [
    {
      "cell_type": "code",
      "execution_count": null,
      "metadata": {
        "colab": {
          "base_uri": "https://localhost:8080/"
        },
        "id": "SabbE-4wSin6",
        "outputId": "d9f11310-6aa5-443e-b35e-5f2355cae9a2"
      },
      "outputs": [
        {
          "output_type": "stream",
          "name": "stdout",
          "text": [
            "Playing against Bot1...\n",
            "Enter your move (rock/paper/scissors): rock\n",
            "It's a tie! Both chose rock.\n"
          ]
        }
      ],
      "source": [
        "import random\n",
        "\n",
        "# Define the possible moves\n",
        "MOVES = ['rock', 'paper', 'scissors']\n",
        "\n",
        "class MarkovChainBot:\n",
        "    def __init__(self):\n",
        "        # Create a matrix to store transition probabilities\n",
        "        self.transitions = {move: {m: 1/3 for m in MOVES} for move in MOVES}\n",
        "\n",
        "    def update_transition(self, my_move, opponent_move):\n",
        "        # Update the transition matrix based on the previous moves\n",
        "        self.transitions[my_move][opponent_move] += 1\n",
        "\n",
        "    def get_next_move(self, my_move):\n",
        "        # Choose the next move based on the transition probabilities\n",
        "        return max(MOVES, key=lambda move: self.transitions[my_move][move])\n",
        "\n",
        "def play_game(bot, num_games=100):\n",
        "    wins = 0\n",
        "    for _ in range(num_games):\n",
        "        # Get bot's move based on its last move\n",
        "        bot_move = bot.get_next_move(bot_move if 'bot_move' in locals() else random.choice(MOVES))\n",
        "\n",
        "        # Get user's move\n",
        "        user_move = input(\"Enter your move (rock/paper/scissors): \").lower()\n",
        "\n",
        "        # Validate user's move\n",
        "        if user_move not in MOVES:\n",
        "            print(\"Invalid move. Try again.\")\n",
        "            continue\n",
        "\n",
        "        # Determine the winner\n",
        "        if bot_move == user_move:\n",
        "            print(f\"It's a tie! Both chose {bot_move}.\")\n",
        "        elif ((bot_move == 'rock' and user_move == 'scissors') or\n",
        "              (bot_move == 'paper' and user_move == 'rock') or\n",
        "              (bot_move == 'scissors' and user_move == 'paper')):\n",
        "            print(f\"Bot wins! {bot_move} beats {user_move}.\")\n",
        "            wins += 1\n",
        "        else:\n",
        "            print(f\"You win! {user_move} beats {bot_move}.\")\n",
        "            bot.update_transition(user_move, bot_move)\n",
        "\n",
        "    return wins\n",
        "\n",
        "def main():\n",
        "    bot = MarkovChainBot()\n",
        "    bots = ['Bot1', 'Bot2', 'Bot3', 'Bot4']\n",
        "    num_games = 100\n",
        "\n",
        "    for i, opponent in enumerate(bots):\n",
        "        print(f\"Playing against {opponent}...\")\n",
        "        wins = play_game(bot, num_games)\n",
        "        win_percentage = (wins / num_games) * 100\n",
        "        print(f\"Win percentage against {opponent}: {win_percentage:.2f}%\")\n",
        "\n",
        "        if win_percentage < 60:\n",
        "            print(\"Failed to win at least 60% of the games against this opponent.\")\n",
        "            break\n",
        "    else:\n",
        "        print(\"Congratulations! Your bot wins against all opponents at least 60% of the time.\")\n",
        "\n",
        "if __name__ == \"__main__\":\n",
        "    main()\n"
      ]
    }
  ]
}